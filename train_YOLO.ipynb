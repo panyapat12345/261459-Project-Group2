{
 "cells": [
  {
   "cell_type": "code",
   "execution_count": null,
   "id": "05661f39",
   "metadata": {},
   "outputs": [],
   "source": [
    "!wandb disabled\n",
    "\n",
    "import os\n",
    "from ultralytics import YOLO"
   ]
  },
  {
   "cell_type": "code",
   "execution_count": null,
   "id": "64be2f73",
   "metadata": {},
   "outputs": [],
   "source": [
    "ROOT_DIR = os.path.abspath('')\n",
    "print(\"Root directory:\", ROOT_DIR)"
   ]
  },
  {
   "cell_type": "markdown",
   "id": "c1b6c357",
   "metadata": {},
   "source": [
    "# model training"
   ]
  },
  {
   "cell_type": "code",
   "execution_count": null,
   "id": "9cd9cbe8",
   "metadata": {},
   "outputs": [],
   "source": [
    "# Load a model\n",
    "model = YOLO('yolov8n.pt')\n",
    "model.info()"
   ]
  },
  {
   "cell_type": "code",
   "execution_count": null,
   "id": "7a3540c6",
   "metadata": {
    "scrolled": true
   },
   "outputs": [],
   "source": [
    "results = model.train(\n",
    "                    data=os.path.join(ROOT_DIR, \"data/fold1_yolo/data.yaml\"),\n",
    "                    name='500ep_aug',\n",
    "                    batch=16, \n",
    "                    epochs=500,\n",
    "                    patience=500,\n",
    "                    imgsz=512,\n",
    "                    device=[1],\n",
    "                    workers=8,\n",
    "#                     single_cls=True,\n",
    "\n",
    "lr0=0.001,\n",
    "lrf=0.001,\n",
    "momentum=0.9,\n",
    "weight_decay=0.0005,\n",
    "optimizer='SGD',\n",
    "# cos_lr=True,\n",
    "cache=True,\n",
    "    \n",
    "hsv_h=0.1,\n",
    "hsv_s=0.05,\n",
    "hsv_v=0.05,\n",
    "degrees=15,\n",
    "translate=0.1,\n",
    "scale=0.1,\n",
    "flipud=0.5,\n",
    "fliplr=0.5,\n",
    "mosaic=0.0,\n",
    "erasing=0.0,\n",
    "crop_fraction=0.0,\n",
    "                     )"
   ]
  },
  {
   "cell_type": "markdown",
   "id": "c61bf526",
   "metadata": {},
   "source": [
    "# Best model evaluation"
   ]
  },
  {
   "cell_type": "code",
   "execution_count": null,
   "id": "b128b0c8",
   "metadata": {},
   "outputs": [],
   "source": [
    "model = YOLO('runs/detect/500ep_aug/weights/best.pt')"
   ]
  },
  {
   "cell_type": "code",
   "execution_count": null,
   "id": "41c48f5a",
   "metadata": {},
   "outputs": [],
   "source": [
    "model.info()"
   ]
  },
  {
   "cell_type": "code",
   "execution_count": null,
   "id": "6926d983",
   "metadata": {
    "scrolled": true
   },
   "outputs": [],
   "source": [
    "test_results = model.val(split='train', batch=16)"
   ]
  },
  {
   "cell_type": "code",
   "execution_count": null,
   "id": "b2b1be53",
   "metadata": {
    "scrolled": true
   },
   "outputs": [],
   "source": [
    "test_results = model.val(split='val', batch=16)"
   ]
  },
  {
   "cell_type": "code",
   "execution_count": null,
   "id": "40f0dc58",
   "metadata": {
    "scrolled": true
   },
   "outputs": [],
   "source": [
    "test_results = model.val(split='test', batch=16)"
   ]
  },
  {
   "cell_type": "markdown",
   "id": "3f82ed91",
   "metadata": {},
   "source": [
    "# Predict"
   ]
  },
  {
   "cell_type": "code",
   "execution_count": null,
   "id": "a1c2c16a",
   "metadata": {},
   "outputs": [],
   "source": [
    "model = YOLO('runs/detect/500ep_aug/weights/best.pt')"
   ]
  },
  {
   "cell_type": "code",
   "execution_count": null,
   "id": "c59f7d12",
   "metadata": {
    "scrolled": true
   },
   "outputs": [],
   "source": [
    "model.predict(\n",
    "    os.path.join(ROOT_DIR, \"data/fold1_yolo/test/images/\"), \n",
    "    save=True,\n",
    "    imgsz=512, \n",
    "    conf=0.5,\n",
    "    show_labels=False,\n",
    "    show_conf=False\n",
    "             )"
   ]
  },
  {
   "cell_type": "code",
   "execution_count": null,
   "id": "5056b971",
   "metadata": {},
   "outputs": [],
   "source": []
  }
 ],
 "metadata": {
  "kernelspec": {
   "display_name": "test01",
   "language": "python",
   "name": "test01"
  },
  "language_info": {
   "codemirror_mode": {
    "name": "ipython",
    "version": 3
   },
   "file_extension": ".py",
   "mimetype": "text/x-python",
   "name": "python",
   "nbconvert_exporter": "python",
   "pygments_lexer": "ipython3",
   "version": "3.11.5"
  }
 },
 "nbformat": 4,
 "nbformat_minor": 5
}
