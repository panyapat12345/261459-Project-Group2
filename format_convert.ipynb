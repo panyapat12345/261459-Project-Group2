{
 "cells": [
  {
   "cell_type": "markdown",
   "id": "67f101c6",
   "metadata": {},
   "source": [
    "# convert coco format to yolov5 format"
   ]
  },
  {
   "cell_type": "code",
   "execution_count": null,
   "id": "048dd639",
   "metadata": {},
   "outputs": [],
   "source": [
    "!fiftyone convert \\\n",
    "    --input-dir cabbages_dataset \\\n",
    "    --input-type fiftyone.types.COCODetectionDataset \\\n",
    "    --output-dir cabbages_YOLO \\\n",
    "    --output-type fiftyone.types.YOLOv5Dataset"
   ]
  },
  {
   "cell_type": "markdown",
   "id": "6d5a7dce",
   "metadata": {},
   "source": [
    "# visualize a image and a bounding box"
   ]
  },
  {
   "cell_type": "code",
   "execution_count": null,
   "id": "9fdc3426",
   "metadata": {},
   "outputs": [],
   "source": [
    "import fiftyone as fo\n",
    "\n",
    "name = \"my-dataset\"\n",
    "dataset_dir = \"cabbages_YOLO\"\n",
    "\n",
    "# The splits to load\n",
    "# splits = [\"train\", \"val\"]\n",
    "splits = [\"val\"]\n",
    "\n",
    "# Load the dataset, using tags to mark the samples in each split\n",
    "dataset = fo.Dataset.from_dir(\n",
    "    dataset_dir=dataset_dir,\n",
    "    dataset_type=fo.types.YOLOv5Dataset,\n",
    "    split=\"val\",\n",
    "    label_field=\"ground_truth\",\n",
    ")\n",
    "# View summary info about the dataset\n",
    "print(dataset)"
   ]
  },
  {
   "cell_type": "code",
   "execution_count": null,
   "id": "15acd26b",
   "metadata": {},
   "outputs": [],
   "source": [
    "sample = dataset.first()\n",
    "print(sample.ground_truth.detections[0])"
   ]
  },
  {
   "cell_type": "code",
   "execution_count": null,
   "id": "26a2d64d",
   "metadata": {},
   "outputs": [],
   "source": [
    "print(dataset.count())\n",
    "print(dataset.count(\"ground_truth.detections\"))"
   ]
  },
  {
   "cell_type": "code",
   "execution_count": null,
   "id": "afd39492",
   "metadata": {},
   "outputs": [],
   "source": [
    "session = fo.launch_app(dataset)"
   ]
  },
  {
   "cell_type": "markdown",
   "id": "4db7caab",
   "metadata": {},
   "source": [
    "# convert YOLOv5 format to pascal format"
   ]
  },
  {
   "cell_type": "code",
   "execution_count": null,
   "id": "215cd582",
   "metadata": {},
   "outputs": [],
   "source": [
    "import os\n",
    "import shutil\n",
    "import torch\n",
    "import torchvision\n",
    "from torchvision.io.image import read_image\n",
    "from torchvision.transforms.v2 import functional as F"
   ]
  },
  {
   "cell_type": "code",
   "execution_count": null,
   "id": "2672b942",
   "metadata": {
    "scrolled": true
   },
   "outputs": [],
   "source": [
    "data_root = 'data/fold1'\n",
    "\n",
    "os.listdir(data_root)\n",
    "os.makedirs(f'{data_root}_pascal', exist_ok=True)\n",
    "for dataset in ['train', 'val', 'test']:\n",
    "    os.makedirs(f'{data_root}_pascal/{dataset}', exist_ok=True)\n",
    "    os.makedirs(f'{data_root}_pascal/{dataset}/images', exist_ok=True)\n",
    "    os.makedirs(f'{data_root}_pascal/{dataset}/labels', exist_ok=True)\n",
    "    \n",
    "    for folder in ['images', 'labels']:\n",
    "        for name in os.listdir(f'{data_root}/{dataset}/{folder}'):\n",
    "            if folder == 'images':\n",
    "                    src = f'{data_root}/{dataset}/{folder}/{name}'\n",
    "                    dst = f'{data_root}_pascal/{dataset}/{folder}/{name}'\n",
    "                    shutil.copyfile(src, dst)\n",
    "                    \n",
    "            else:\n",
    "                # Load image\n",
    "                image_name = name.replace('.txt', '.png')\n",
    "                image_path = f'{data_root}/{dataset}/images/{image_name}'\n",
    "                image = read_image(image_path)\n",
    "                if image is None:\n",
    "                    raise Exception(f\"Error reading image: {image_path}\")\n",
    "                heigth, width = F.get_size(image)\n",
    "                \n",
    "                # load label\n",
    "                label_path = f'{data_root}/{dataset}/{folder}/{name}'\n",
    "                with open(label_path, \"r\") as file:\n",
    "                    lines = file.read().split('\\n')\n",
    "        #         print(lines)\n",
    "\n",
    "                # convert YOLOv8 format to xyxy format\n",
    "                boxes = []\n",
    "                labels = []\n",
    "                for i in range(len(lines)):\n",
    "                    line = lines[i].split()\n",
    "                    # denormalize\n",
    "                    boxes.append([\n",
    "#                         int(round(float(line[1])*width)),\n",
    "#                         int(round(float(line[2])*heigth)),\n",
    "#                         int(round(float(line[3])*width)),\n",
    "#                         int(round(float(line[4])*heigth))\n",
    "                        \n",
    "                        float(line[1])*width,\n",
    "                        float(line[2])*heigth,\n",
    "                        float(line[3])*width,\n",
    "                        float(line[4])*heigth                        \n",
    "                    ])\n",
    "                    labels.append(int(line[0]))      # non shift\n",
    "    #                 labels.append(int(line[0])+1)     # shift 1 class \n",
    "\n",
    "#                 print(boxes)\n",
    "                # convert format\n",
    "                boxes = torchvision.ops.box_convert(\n",
    "                    boxes=torch.tensor(boxes, dtype=torch.float32),\n",
    "                    in_fmt='cxcywh',\n",
    "                    out_fmt='xyxy'\n",
    "                )\n",
    "#                 print(boxes)\n",
    "                \n",
    "                lines = []\n",
    "                for i in range(len(boxes)):\n",
    "                    line = f'{labels[i]} {round(boxes[i][0].item())} {round(boxes[i][1].item())} {round(boxes[i][2].item())} {round(boxes[i][3].item())}'\n",
    "                    lines.append(line)\n",
    "                    \n",
    "                with open(f'{data_root}_pascal/{dataset}/{folder}/{name}', \"w\") as file:\n",
    "                    file.write('\\n'.join(lines))\n",
    "\n",
    "\n",
    "            print(dataset, folder, name)"
   ]
  }
 ],
 "metadata": {
  "kernelspec": {
   "display_name": "test01",
   "language": "python",
   "name": "test01"
  },
  "language_info": {
   "codemirror_mode": {
    "name": "ipython",
    "version": 3
   },
   "file_extension": ".py",
   "mimetype": "text/x-python",
   "name": "python",
   "nbconvert_exporter": "python",
   "pygments_lexer": "ipython3",
   "version": "3.11.5"
  }
 },
 "nbformat": 4,
 "nbformat_minor": 5
}
